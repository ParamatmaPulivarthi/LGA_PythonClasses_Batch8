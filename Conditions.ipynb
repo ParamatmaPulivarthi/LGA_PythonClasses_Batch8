{
 "cells": [
  {
   "cell_type": "code",
   "execution_count": null,
   "id": "16cb1025",
   "metadata": {},
   "outputs": [],
   "source": [
    "conditions"
   ]
  },
  {
   "cell_type": "code",
   "execution_count": null,
   "id": "50fd6b66",
   "metadata": {},
   "outputs": [],
   "source": [
    "rules\n"
   ]
  },
  {
   "cell_type": "code",
   "execution_count": null,
   "id": "d8f09eda",
   "metadata": {},
   "outputs": [],
   "source": [
    "types\n",
    "\n",
    "single \n",
    "mulitple () binary -two condition\n",
    "muitiple () more two condition"
   ]
  },
  {
   "cell_type": "code",
   "execution_count": null,
   "id": "7069914f",
   "metadata": {},
   "outputs": [],
   "source": [
    "if condition:\n",
    "    statements\n",
    "statement"
   ]
  },
  {
   "cell_type": "code",
   "execution_count": null,
   "id": "1b41f1f4",
   "metadata": {},
   "outputs": [],
   "source": [
    "condition\n",
    "comparision_value\n",
    "original_value\n",
    "operator\n",
    "---arithimetic---<>== !=,,  ==, !=\n",
    "--logical "
   ]
  },
  {
   "cell_type": "code",
   "execution_count": null,
   "id": "b53ed4a2",
   "metadata": {},
   "outputs": [],
   "source": [
    "one condition"
   ]
  },
  {
   "cell_type": "code",
   "execution_count": null,
   "id": "fca6da02",
   "metadata": {},
   "outputs": [],
   "source": [
    "if condition:\n",
    "    statements\n",
    "statments\n"
   ]
  },
  {
   "cell_type": "code",
   "execution_count": null,
   "id": "4d7214e0",
   "metadata": {},
   "outputs": [],
   "source": [
    "\n",
    "\n",
    "profit -----\n",
    "scenario: milk sales per day 10 unte profit display"
   ]
  },
  {
   "cell_type": "code",
   "execution_count": null,
   "id": "4b648885",
   "metadata": {},
   "outputs": [],
   "source": [
    "if condiiton:\n",
    "    statement"
   ]
  },
  {
   "cell_type": "code",
   "execution_count": 1,
   "id": "68ded1a8",
   "metadata": {},
   "outputs": [
    {
     "name": "stdout",
     "output_type": "stream",
     "text": [
      "your program close\n"
     ]
    }
   ],
   "source": [
    "original_value = 12\n",
    "comparision_value =10\n",
    "if original_value ==comparision_value:\n",
    "    print(\"your business is profitable\")\n",
    "    print(\" congrats\")\n",
    "print(\"your program close\")"
   ]
  },
  {
   "cell_type": "code",
   "execution_count": 2,
   "id": "32bb0142",
   "metadata": {},
   "outputs": [
    {
     "name": "stdout",
     "output_type": "stream",
     "text": [
      "your business is profitable\n",
      " congrats\n",
      "your program close\n"
     ]
    }
   ],
   "source": [
    "original_value = 10\n",
    "comparision_value =10\n",
    "if original_value ==comparision_value:\n",
    "    print(\"your business is profitable\")\n",
    "    print(\" congrats\")\n",
    "print(\"your program close\")"
   ]
  },
  {
   "cell_type": "code",
   "execution_count": 3,
   "id": "ff211103",
   "metadata": {},
   "outputs": [
    {
     "name": "stdout",
     "output_type": "stream",
     "text": [
      "your program close\n"
     ]
    }
   ],
   "source": [
    "original_value = 9\n",
    "comparision_value =10\n",
    "if original_value ==comparision_value:\n",
    "    print(\"your business is profitable\")\n",
    "    print(\" congrats\")\n",
    "print(\"your program close\")"
   ]
  },
  {
   "cell_type": "code",
   "execution_count": null,
   "id": "ed93c1cf",
   "metadata": {},
   "outputs": [],
   "source": [
    "two condition=== binary  \n",
    "odds--\n",
    " yes--no\n",
    "true --false\n",
    "1--0\n",
    "male --female\n"
   ]
  },
  {
   "cell_type": "code",
   "execution_count": null,
   "id": "c1a54353",
   "metadata": {},
   "outputs": [],
   "source": [
    "if else conditions"
   ]
  },
  {
   "cell_type": "code",
   "execution_count": null,
   "id": "e6110ee4",
   "metadata": {},
   "outputs": [],
   "source": [
    "if condition:\n",
    "    statements\n",
    "else:\n",
    "    statments\n",
    "    "
   ]
  },
  {
   "cell_type": "code",
   "execution_count": null,
   "id": "21cb8b87",
   "metadata": {},
   "outputs": [],
   "source": [
    "scenario : milk sales per day 10 ithe profit display lekpothe loss"
   ]
  },
  {
   "cell_type": "code",
   "execution_count": null,
   "id": "17924ba9",
   "metadata": {},
   "outputs": [],
   "source": [
    "if condition:\n",
    "    statements\n",
    "else:\n",
    "    statments\n",
    "    "
   ]
  },
  {
   "cell_type": "code",
   "execution_count": 4,
   "id": "55beded2",
   "metadata": {},
   "outputs": [
    {
     "name": "stdout",
     "output_type": "stream",
     "text": [
      " losss\n",
      " bad luck\n"
     ]
    }
   ],
   "source": [
    "comparision_value=10\n",
    "original_value=13\n",
    "if original_value  == comparision_value:\n",
    "    print(\" profitable\")\n",
    "    print(\"congrats\")\n",
    "else:\n",
    "    print(\" losss\")\n",
    "    print(\" bad luck\")"
   ]
  },
  {
   "cell_type": "code",
   "execution_count": 5,
   "id": "54675937",
   "metadata": {},
   "outputs": [
    {
     "name": "stdout",
     "output_type": "stream",
     "text": [
      " profitable\n",
      "congrats\n"
     ]
    }
   ],
   "source": [
    "comparision_value=10\n",
    "original_value=10\n",
    "if original_value  == comparision_value:\n",
    "    print(\" profitable\")\n",
    "    print(\"congrats\")\n",
    "else:\n",
    "    print(\" losss\")\n",
    "    print(\" bad luck\")"
   ]
  },
  {
   "cell_type": "code",
   "execution_count": null,
   "id": "88555296",
   "metadata": {},
   "outputs": [],
   "source": [
    "scenario: gender male ithe 10%\n",
    "    female 30%\n",
    "    "
   ]
  },
  {
   "cell_type": "code",
   "execution_count": null,
   "id": "de2952ec",
   "metadata": {},
   "outputs": [],
   "source": [
    "if--conditon\n",
    "if else---two condition\n"
   ]
  },
  {
   "cell_type": "code",
   "execution_count": null,
   "id": "e9199082",
   "metadata": {},
   "outputs": [],
   "source": [
    "if condtion:\n",
    "    statement\n",
    "else:\n",
    "    statement\n",
    "    "
   ]
  },
  {
   "cell_type": "code",
   "execution_count": 7,
   "id": "cc740dcc",
   "metadata": {},
   "outputs": [
    {
     "name": "stdout",
     "output_type": "stream",
     "text": [
      "the product discount is 10%\n",
      " on cloths\n"
     ]
    }
   ],
   "source": [
    "original_value='male'\n",
    "comparision_value='male'\n",
    "\n",
    "if original_value == comparision_value:\n",
    "    print(\"the product discount is 10%\")\n",
    "    print(\" on cloths\")\n",
    "else:\n",
    "    print(\" the product discount is 30%\")\n",
    "    \n",
    "\n",
    "\n",
    "\n"
   ]
  },
  {
   "cell_type": "code",
   "execution_count": 8,
   "id": "663650f9",
   "metadata": {},
   "outputs": [
    {
     "name": "stdout",
     "output_type": "stream",
     "text": [
      " the product discount is 30%\n"
     ]
    }
   ],
   "source": [
    "original_value='female'\n",
    "comparision_value='male'\n",
    "\n",
    "if original_value == comparision_value:\n",
    "    print(\"the product discount is 10%\")\n",
    "    print(\" on cloths\")\n",
    "else:\n",
    "    print(\" the product discount is 30%\")\n",
    "    \n",
    "\n",
    "\n",
    "\n"
   ]
  },
  {
   "cell_type": "code",
   "execution_count": 9,
   "id": "d98f7afc",
   "metadata": {},
   "outputs": [
    {
     "name": "stdout",
     "output_type": "stream",
     "text": [
      " the product discount is 30%\n"
     ]
    }
   ],
   "source": [
    "original_value='x'\n",
    "comparision_value='male'\n",
    "\n",
    "if original_value == comparision_value:\n",
    "    print(\"the product discount is 10%\")\n",
    "    print(\" on cloths\")\n",
    "else:\n",
    "    print(\" the product discount is 30%\")\n",
    "    \n",
    "\n",
    "\n",
    "------->\n"
   ]
  },
  {
   "cell_type": "code",
   "execution_count": null,
   "id": "b034ba9a",
   "metadata": {},
   "outputs": [],
   "source": [
    "dmart\n",
    "product\n",
    "-> ice cream\n",
    "30%\n",
    "20%\n",
    "amount\n",
    "bill\n",
    "\n",
    "\n",
    "requirement---"
   ]
  },
  {
   "cell_type": "code",
   "execution_count": null,
   "id": "ca9b56e5",
   "metadata": {},
   "outputs": [],
   "source": [
    "inputs----->\n",
    "type of product\n",
    "purchase amount\n"
   ]
  },
  {
   "cell_type": "code",
   "execution_count": null,
   "id": "a9745682",
   "metadata": {},
   "outputs": [],
   "source": [
    "outpus-->\n",
    "after discount pay bill\n",
    "\n"
   ]
  },
  {
   "cell_type": "code",
   "execution_count": null,
   "id": "c8e57fc4",
   "metadata": {},
   "outputs": [],
   "source": [
    "logic---->[python concepts,syntax]"
   ]
  },
  {
   "cell_type": "code",
   "execution_count": null,
   "id": "54a9bb09",
   "metadata": {},
   "outputs": [],
   "source": [
    "conditions\n",
    "if else:"
   ]
  },
  {
   "cell_type": "code",
   "execution_count": null,
   "id": "284c229f",
   "metadata": {},
   "outputs": [],
   "source": [
    "if condition:\n",
    "    statements\n",
    "else:\n",
    "    statments\n",
    "    "
   ]
  },
  {
   "cell_type": "code",
   "execution_count": null,
   "id": "8229485d",
   "metadata": {},
   "outputs": [],
   "source": [
    "type of product\n",
    "purchase amount\n"
   ]
  },
  {
   "cell_type": "code",
   "execution_count": 10,
   "id": "15fef764",
   "metadata": {},
   "outputs": [
    {
     "name": "stdout",
     "output_type": "stream",
     "text": [
      " 30% discount\n",
      " discount amount 300.0\n",
      " after discount bill 700.0\n"
     ]
    }
   ],
   "source": [
    "type_of_product_cv  ='icecream'\n",
    "original_value= 'icecream'\n",
    "purchase_amount =1000\n",
    "if original_value == type_of_product_cv:\n",
    "    print(\" 30% discount\")\n",
    "    discount = purchase_amount * .30\n",
    "    print(\" discount amount\", discount)\n",
    "    new_bill= purchase_amount - discount\n",
    "    print(\" after discount bill\",new_bill)\n",
    "else:\n",
    "    print(\" 20% discount\")\n",
    "    discount = purchase_amount * .20\n",
    "    print(\" discount amount\", discount)\n",
    "    new_bill= purchase_amount - discount\n",
    "    print(\" after discount bill\",new_bill)"
   ]
  },
  {
   "cell_type": "code",
   "execution_count": 11,
   "id": "12667ac9",
   "metadata": {},
   "outputs": [
    {
     "name": "stdout",
     "output_type": "stream",
     "text": [
      " 20% discount\n",
      " discount amount 200.0\n",
      " after discount bill 800.0\n"
     ]
    }
   ],
   "source": [
    "type_of_product_cv  ='icecream'\n",
    "original_value= 'grocery'\n",
    "purchase_amount =1000\n",
    "if original_value == type_of_product_cv:\n",
    "    print(\" 30% discount\")\n",
    "    discount = purchase_amount * .30\n",
    "    print(\" discount amount\", discount)\n",
    "    new_bill= purchase_amount - discount\n",
    "    print(\" after discount bill\",new_bill)\n",
    "else:\n",
    "    print(\" 20% discount\")\n",
    "    discount = purchase_amount * .20\n",
    "    print(\" discount amount\", discount)\n",
    "    new_bill= purchase_amount - discount\n",
    "    print(\" after discount bill\",new_bill)"
   ]
  },
  {
   "cell_type": "code",
   "execution_count": 12,
   "id": "54ab249b",
   "metadata": {},
   "outputs": [
    {
     "name": "stdout",
     "output_type": "stream",
     "text": [
      " 20% discount\n",
      " discount amount 200.0\n",
      " after discount bill 800.0\n"
     ]
    }
   ],
   "source": [
    "type_of_product_cv  ='icecream'\n",
    "original_value= 'popcorn'\n",
    "purchase_amount =1000\n",
    "if original_value == type_of_product_cv:\n",
    "    print(\" 30% discount\")\n",
    "    discount = purchase_amount * .30\n",
    "    print(\" discount amount\", discount)\n",
    "    new_bill= purchase_amount - discount\n",
    "    print(\" after discount bill\",new_bill)\n",
    "else:\n",
    "    print(\" 20% discount\")\n",
    "    discount = purchase_amount * .20\n",
    "    print(\" discount amount\", discount)\n",
    "    new_bill= purchase_amount - discount\n",
    "    print(\" after discount bill\",new_bill)"
   ]
  },
  {
   "cell_type": "code",
   "execution_count": 13,
   "id": "7194fa25",
   "metadata": {},
   "outputs": [
    {
     "name": "stdout",
     "output_type": "stream",
     "text": [
      " 20% discount\n",
      " discount amount 100.0\n",
      " after discount bill 400.0\n"
     ]
    }
   ],
   "source": [
    "type_of_product_cv  ='icecream'\n",
    "original_value= 'chocolate'\n",
    "purchase_amount =500\n",
    "if original_value == type_of_product_cv:\n",
    "    print(\" 30% discount\")\n",
    "    discount = purchase_amount * .30\n",
    "    print(\" discount amount\", discount)\n",
    "    new_bill= purchase_amount - discount\n",
    "    print(\" after discount bill\",new_bill)\n",
    "else:\n",
    "    print(\" 20% discount\")\n",
    "    discount = purchase_amount * .20\n",
    "    print(\" discount amount\", discount)\n",
    "    new_bill= purchase_amount - discount\n",
    "    print(\" after discount bill\",new_bill)"
   ]
  },
  {
   "cell_type": "code",
   "execution_count": null,
   "id": "eae41809",
   "metadata": {},
   "outputs": [],
   "source": []
  }
 ],
 "metadata": {
  "kernelspec": {
   "display_name": "Python 3 (ipykernel)",
   "language": "python",
   "name": "python3"
  },
  "language_info": {
   "codemirror_mode": {
    "name": "ipython",
    "version": 3
   },
   "file_extension": ".py",
   "mimetype": "text/x-python",
   "name": "python",
   "nbconvert_exporter": "python",
   "pygments_lexer": "ipython3",
   "version": "3.10.9"
  }
 },
 "nbformat": 4,
 "nbformat_minor": 5
}
