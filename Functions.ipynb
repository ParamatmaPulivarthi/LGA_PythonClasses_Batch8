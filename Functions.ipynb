{
 "cells": [
  {
   "cell_type": "code",
   "execution_count": null,
   "id": "56daef16",
   "metadata": {},
   "outputs": [],
   "source": [
    "fuction\n",
    "black box\n",
    "---logic(not require---develp)\n",
    "custerm---\n",
    "input \n",
    "output\n"
   ]
  },
  {
   "cell_type": "code",
   "execution_count": null,
   "id": "b9de51e0",
   "metadata": {},
   "outputs": [],
   "source": [
    "fucntion\n",
    "\n",
    "fucnton\n"
   ]
  },
  {
   "cell_type": "code",
   "execution_count": null,
   "id": "724c2165",
   "metadata": {},
   "outputs": [],
   "source": [
    "two types\n",
    "user defined ---own logic funciton\n",
    "pre defiend -- "
   ]
  },
  {
   "cell_type": "code",
   "execution_count": null,
   "id": "a6a23f59",
   "metadata": {},
   "outputs": [],
   "source": [
    "user defined\n",
    "every --business--mindset-business unique -"
   ]
  },
  {
   "cell_type": "code",
   "execution_count": null,
   "id": "48b1b652",
   "metadata": {},
   "outputs": [],
   "source": [
    "user defined---session \n"
   ]
  },
  {
   "cell_type": "code",
   "execution_count": null,
   "id": "2dcab962",
   "metadata": {},
   "outputs": [],
   "source": [
    "syntax:\n",
    "    indentation"
   ]
  },
  {
   "cell_type": "code",
   "execution_count": null,
   "id": "5eeb7b20",
   "metadata": {},
   "outputs": [],
   "source": [
    "def function_name(paramer, input1,input3,):\n",
    "    logic\n",
    "    statiements\n",
    "    statments\n",
    "    return value"
   ]
  },
  {
   "cell_type": "code",
   "execution_count": null,
   "id": "7d243b50",
   "metadata": {},
   "outputs": [],
   "source": [
    "def function_name(paramer, input1,input3,):\n",
    "    logic\n",
    "    statiements\n",
    "    statments\n",
    "    return [value,value2]"
   ]
  },
  {
   "cell_type": "code",
   "execution_count": null,
   "id": "f47b5a84",
   "metadata": {},
   "outputs": [],
   "source": [
    "def function_name(paramer, input1,input3,):\n",
    "    logic\n",
    "    statiements\n",
    "    statments\n",
    "    "
   ]
  },
  {
   "cell_type": "code",
   "execution_count": null,
   "id": "6e882f59",
   "metadata": {},
   "outputs": [],
   "source": [
    "some --compines, code standards\n"
   ]
  },
  {
   "cell_type": "code",
   "execution_count": null,
   "id": "be84c107",
   "metadata": {},
   "outputs": [],
   "source": [
    "small\n",
    "two numbers addition\n",
    "\n"
   ]
  },
  {
   "cell_type": "code",
   "execution_count": 1,
   "id": "1243ae81",
   "metadata": {},
   "outputs": [],
   "source": [
    "# function def:\n",
    "\n",
    "def param_addition(input1,input2):\n",
    "    new_variable=input1+input2\n",
    "    return new_variable"
   ]
  },
  {
   "cell_type": "code",
   "execution_count": 2,
   "id": "9b044916",
   "metadata": {},
   "outputs": [
    {
     "data": {
      "text/plain": [
       "30"
      ]
     },
     "execution_count": 2,
     "metadata": {},
     "output_type": "execute_result"
    }
   ],
   "source": [
    "# funciton call\n",
    "\n",
    "param_addition(10,20)"
   ]
  },
  {
   "cell_type": "code",
   "execution_count": 6,
   "id": "0b10644d",
   "metadata": {},
   "outputs": [
    {
     "data": {
      "text/plain": [
       "270"
      ]
     },
     "execution_count": 6,
     "metadata": {},
     "output_type": "execute_result"
    }
   ],
   "source": [
    "# funciton call\n",
    "\n",
    "param_addition(30,240)"
   ]
  },
  {
   "cell_type": "code",
   "execution_count": null,
   "id": "eb9d2b52",
   "metadata": {},
   "outputs": [],
   "source": [
    "# funciton call\n",
    "\n",
    "param_addition(30,240)"
   ]
  },
  {
   "cell_type": "code",
   "execution_count": null,
   "id": "de08ec0a",
   "metadata": {},
   "outputs": [],
   "source": []
  },
  {
   "cell_type": "code",
   "execution_count": 3,
   "id": "45546c2a",
   "metadata": {},
   "outputs": [],
   "source": [
    "# function def:\n",
    "\n",
    "def param_subration(input1,input2):\n",
    "    new_variable=input1-input2\n",
    "    return new_variable"
   ]
  },
  {
   "cell_type": "code",
   "execution_count": 5,
   "id": "9aa3a9ef",
   "metadata": {},
   "outputs": [
    {
     "ename": "NameError",
     "evalue": "name 'inputvalue' is not defined",
     "output_type": "error",
     "traceback": [
      "\u001b[1;31m---------------------------------------------------------------------------\u001b[0m",
      "\u001b[1;31mNameError\u001b[0m                                 Traceback (most recent call last)",
      "Cell \u001b[1;32mIn[5], line 2\u001b[0m\n\u001b[0;32m      1\u001b[0m \u001b[38;5;66;03m# function def:\u001b[39;00m\n\u001b[1;32m----> 2\u001b[0m \u001b[38;5;28;01mdef\u001b[39;00m \u001b[38;5;21mfunction_name\u001b[39m(input1\u001b[38;5;241m=\u001b[39m\u001b[43minputvalue\u001b[49m,input2\u001b[38;5;241m=\u001b[39minputvale2):\n\u001b[0;32m      3\u001b[0m     new_varialbe\u001b[38;5;241m=\u001b[39minput1\u001b[38;5;241m+\u001b[39minput2\n\u001b[0;32m      4\u001b[0m     \u001b[38;5;28;01mreturn\u001b[39;00m new_variable\n",
      "\u001b[1;31mNameError\u001b[0m: name 'inputvalue' is not defined"
     ]
    }
   ],
   "source": [
    "# function def:\n",
    "def function_name(input1=inputvalue,input2=inputvale2):\n",
    "    new_varialbe=input1+input2\n",
    "    return new_variable\n"
   ]
  },
  {
   "cell_type": "code",
   "execution_count": null,
   "id": "0f2c35ed",
   "metadata": {},
   "outputs": [],
   "source": [
    "function_name(inputw=10,input2=20)"
   ]
  },
  {
   "cell_type": "code",
   "execution_count": null,
   "id": "a2606122",
   "metadata": {},
   "outputs": [],
   "source": [
    "main logic:\n",
    "    \n",
    "condition, loops, function\n",
    "\n",
    "two add\n",
    "user define\n",
    "pre define\n",
    "\n"
   ]
  },
  {
   "cell_type": "code",
   "execution_count": null,
   "id": "47945129",
   "metadata": {},
   "outputs": [],
   "source": [
    "import math"
   ]
  },
  {
   "cell_type": "code",
   "execution_count": null,
   "id": "183340aa",
   "metadata": {},
   "outputs": [],
   "source": [
    "add()"
   ]
  },
  {
   "cell_type": "code",
   "execution_count": null,
   "id": "8548e037",
   "metadata": {},
   "outputs": [],
   "source": []
  },
  {
   "cell_type": "code",
   "execution_count": null,
   "id": "e80852a5",
   "metadata": {},
   "outputs": [],
   "source": []
  },
  {
   "cell_type": "code",
   "execution_count": null,
   "id": "89367876",
   "metadata": {},
   "outputs": [],
   "source": []
  },
  {
   "cell_type": "code",
   "execution_count": 4,
   "id": "eeac2317",
   "metadata": {},
   "outputs": [
    {
     "data": {
      "text/plain": [
       "-10"
      ]
     },
     "execution_count": 4,
     "metadata": {},
     "output_type": "execute_result"
    }
   ],
   "source": [
    "param_subration(10,20)"
   ]
  },
  {
   "cell_type": "code",
   "execution_count": null,
   "id": "ebbb34fd",
   "metadata": {},
   "outputs": [],
   "source": []
  },
  {
   "cell_type": "code",
   "execution_count": null,
   "id": "85968b1b",
   "metadata": {},
   "outputs": [],
   "source": [
    "\n",
    "\n",
    "scenario\n",
    "\n",
    "multiple values , addition\n",
    "1-10 \n",
    "\n",
    "1-5 \n",
    "\n",
    "1,2\n"
   ]
  },
  {
   "cell_type": "code",
   "execution_count": null,
   "id": "efb4e28b",
   "metadata": {},
   "outputs": [],
   "source": [
    "original\n",
    "\n",
    "retials\n",
    "\n",
    "3  -marts\n",
    "3 offer\n",
    "discount \n",
    "\n",
    "3 --dmart, jio mart, reliance\n",
    "3 -- 20%,30%,40%\n",
    "\n"
   ]
  },
  {
   "cell_type": "code",
   "execution_count": null,
   "id": "1ffcd2ae",
   "metadata": {},
   "outputs": [],
   "source": [
    "input \n",
    "\n",
    "concepts\n",
    "----function \n",
    "---codition\n",
    "-----input  :mart \n",
    "----output --discount ,mart\n",
    "---logic -- original value, comparision ,operator \n"
   ]
  },
  {
   "cell_type": "code",
   "execution_count": null,
   "id": "55982f2b",
   "metadata": {},
   "outputs": [],
   "source": [
    "if, if else, if elif else"
   ]
  },
  {
   "cell_type": "code",
   "execution_count": 1,
   "id": "48487a2b",
   "metadata": {},
   "outputs": [
    {
     "name": "stdout",
     "output_type": "stream",
     "text": [
      "you entered in Dmart\n",
      "you discount is 20%\n"
     ]
    }
   ],
   "source": [
    "mart_value=\"dmart\"\n",
    "\n",
    "if mart_value==\"dmart\":\n",
    "    print(\"you entered in Dmart\")\n",
    "    print(\"you discount is 20%\")\n",
    "elif mart_value==\"jiomart\"    :\n",
    "    print(\"you entered in JIomart\")\n",
    "    print(\"you discount is 30%\")\n",
    "elif mart_value==\"reliancemart\" :\n",
    "    print(\"you entered in reliance mart\")\n",
    "    print(\"you discount is 30%\")\n",
    "else:\n",
    "    print(\" you enter wrong mart\")\n",
    "    print(\" there is no discount\")\n",
    "    \n",
    "    \n",
    "    "
   ]
  },
  {
   "cell_type": "code",
   "execution_count": 2,
   "id": "8cefe9c3",
   "metadata": {},
   "outputs": [
    {
     "name": "stdout",
     "output_type": "stream",
     "text": [
      "you entered in JIomart\n",
      "you discount is 30%\n"
     ]
    }
   ],
   "source": [
    "mart_value=\"jiomart\"\n",
    "\n",
    "if mart_value==\"dmart\":\n",
    "    print(\"you entered in Dmart\")\n",
    "    print(\"you discount is 20%\")\n",
    "elif mart_value==\"jiomart\"    :\n",
    "    print(\"you entered in JIomart\")\n",
    "    print(\"you discount is 30%\")\n",
    "elif mart_value==\"reliancemart\" :\n",
    "    print(\"you entered in reliance mart\")\n",
    "    print(\"you discount is 30%\")\n",
    "else:\n",
    "    print(\" you enter wrong mart\")\n",
    "    print(\" there is no discount\")\n",
    "    \n",
    "    \n",
    "    "
   ]
  },
  {
   "cell_type": "code",
   "execution_count": 3,
   "id": "36867d71",
   "metadata": {},
   "outputs": [
    {
     "name": "stdout",
     "output_type": "stream",
     "text": [
      " you enter wrong mart\n",
      " there is no discount\n"
     ]
    }
   ],
   "source": [
    "mart_value=\"pmart\"\n",
    "\n",
    "if mart_value==\"dmart\":\n",
    "    print(\"you entered in Dmart\")\n",
    "    print(\"you discount is 20%\")\n",
    "elif mart_value==\"jiomart\"    :\n",
    "    print(\"you entered in JIomart\")\n",
    "    print(\"you discount is 30%\")\n",
    "elif mart_value==\"reliancemart\" :\n",
    "    print(\"you entered in reliance mart\")\n",
    "    print(\"you discount is 30%\")\n",
    "else:\n",
    "    print(\" you enter wrong mart\")\n",
    "    print(\" there is no discount\")\n",
    "    \n",
    "    \n",
    "    "
   ]
  },
  {
   "cell_type": "code",
   "execution_count": 7,
   "id": "a0179831",
   "metadata": {},
   "outputs": [],
   "source": [
    "\n",
    "def mart_discount(mart_value):\n",
    "    if mart_value==\"dmart\":\n",
    "        print(\"you entered in Dmart\")\n",
    "        print(\"you discount is 20%\")\n",
    "    elif mart_value==\"jiomart\"    :\n",
    "        print(\"you entered in JIomart\")\n",
    "        print(\"you discount is 30%\")\n",
    "    elif mart_value==\"reliancemart\" :\n",
    "        print(\"you entered in reliance mart\")\n",
    "        print(\"you discount is 30%\")\n",
    "    else:\n",
    "        print(\" you enter wrong mart\")\n",
    "        print(\" there is no discount\") \n",
    "\n"
   ]
  },
  {
   "cell_type": "code",
   "execution_count": 12,
   "id": "332650bc",
   "metadata": {},
   "outputs": [],
   "source": [
    "\n",
    "def mart_discount(mart_value):\n",
    "    if mart==\"dmart\":\n",
    "        print(\"you entered in Dmart\")\n",
    "        print(\"you discount is 20%\")\n",
    "    elif mart==\"jiomart\"    :\n",
    "        print(\"you entered in JIomart\")\n",
    "        print(\"you discount is 30%\")\n",
    "    elif mart==\"reliancemart\" :\n",
    "        print(\"you entered in reliance mart\")\n",
    "        print(\"you discount is 30%\")\n",
    "    else:\n",
    "        print(\" you enter wrong mart\")\n",
    "        print(\" there is no discount\") \n",
    "\n"
   ]
  },
  {
   "cell_type": "code",
   "execution_count": 13,
   "id": "886c0b35",
   "metadata": {},
   "outputs": [
    {
     "ename": "NameError",
     "evalue": "name 'mart' is not defined",
     "output_type": "error",
     "traceback": [
      "\u001b[1;31m---------------------------------------------------------------------------\u001b[0m",
      "\u001b[1;31mNameError\u001b[0m                                 Traceback (most recent call last)",
      "Cell \u001b[1;32mIn[13], line 2\u001b[0m\n\u001b[0;32m      1\u001b[0m \u001b[38;5;66;03m# mart_discount(\"dmart\")\u001b[39;00m\n\u001b[1;32m----> 2\u001b[0m \u001b[43mmart_discount\u001b[49m\u001b[43m(\u001b[49m\u001b[38;5;124;43m\"\u001b[39;49m\u001b[38;5;124;43mpmart\u001b[39;49m\u001b[38;5;124;43m\"\u001b[39;49m\u001b[43m)\u001b[49m\n",
      "Cell \u001b[1;32mIn[12], line 2\u001b[0m, in \u001b[0;36mmart_discount\u001b[1;34m(mart_value)\u001b[0m\n\u001b[0;32m      1\u001b[0m \u001b[38;5;28;01mdef\u001b[39;00m \u001b[38;5;21mmart_discount\u001b[39m(mart_value):\n\u001b[1;32m----> 2\u001b[0m     \u001b[38;5;28;01mif\u001b[39;00m \u001b[43mmart\u001b[49m\u001b[38;5;241m==\u001b[39m\u001b[38;5;124m\"\u001b[39m\u001b[38;5;124mdmart\u001b[39m\u001b[38;5;124m\"\u001b[39m:\n\u001b[0;32m      3\u001b[0m         \u001b[38;5;28mprint\u001b[39m(\u001b[38;5;124m\"\u001b[39m\u001b[38;5;124myou entered in Dmart\u001b[39m\u001b[38;5;124m\"\u001b[39m)\n\u001b[0;32m      4\u001b[0m         \u001b[38;5;28mprint\u001b[39m(\u001b[38;5;124m\"\u001b[39m\u001b[38;5;124myou discount is 20\u001b[39m\u001b[38;5;124m%\u001b[39m\u001b[38;5;124m\"\u001b[39m)\n",
      "\u001b[1;31mNameError\u001b[0m: name 'mart' is not defined"
     ]
    }
   ],
   "source": [
    "# mart_discount(\"dmart\")\n",
    "mart_discount(\"pmart\")"
   ]
  },
  {
   "cell_type": "code",
   "execution_count": 21,
   "id": "20c55e01",
   "metadata": {},
   "outputs": [],
   "source": [
    "\n",
    "def mart_discount(mart_value):\n",
    "    if mart_value==\"dmart\":\n",
    "        print(\"you entered in Dmart\")\n",
    "        print(\"you discount is 20%\")\n",
    "    elif mart_value==\"jiomart\"    :\n",
    "        print(\"you entered in JIomart\")\n",
    "        print(\"you discount is 30%\")\n",
    "    elif mart_value==\"reliancemart\" :\n",
    "        print(\"you entered in reliance mart\")\n",
    "        print(\"you discount is 30%\")\n",
    "    else:\n",
    "        print(\" you enter wrong mart\")\n",
    "        print(\" there is no discount\") \n",
    "\n"
   ]
  },
  {
   "cell_type": "code",
   "execution_count": 24,
   "id": "fee60ac5",
   "metadata": {},
   "outputs": [],
   "source": [
    "name=\"paramatma\""
   ]
  },
  {
   "cell_type": "code",
   "execution_count": 23,
   "id": "e3bba471",
   "metadata": {},
   "outputs": [
    {
     "name": "stdout",
     "output_type": "stream",
     "text": [
      " you enter wrong mart\n",
      " there is no discount\n"
     ]
    }
   ],
   "source": [
    "# mart_discount(\"dmart\")\n",
    "# mart_discount(\"jiomart\")\n",
    "# mart_discount(\"Reliancemart\")\n",
    "mart_discount(\"Pmart\")"
   ]
  },
  {
   "cell_type": "code",
   "execution_count": 10,
   "id": "daeec77e",
   "metadata": {},
   "outputs": [
    {
     "name": "stdout",
     "output_type": "stream",
     "text": [
      "you entered in JIomart\n",
      "you discount is 30%\n"
     ]
    }
   ],
   "source": [
    "mart_discount(\"jiomart\")"
   ]
  }
 ],
 "metadata": {
  "kernelspec": {
   "display_name": "Python 3 (ipykernel)",
   "language": "python",
   "name": "python3"
  },
  "language_info": {
   "codemirror_mode": {
    "name": "ipython",
    "version": 3
   },
   "file_extension": ".py",
   "mimetype": "text/x-python",
   "name": "python",
   "nbconvert_exporter": "python",
   "pygments_lexer": "ipython3",
   "version": "3.10.9"
  }
 },
 "nbformat": 4,
 "nbformat_minor": 5
}
