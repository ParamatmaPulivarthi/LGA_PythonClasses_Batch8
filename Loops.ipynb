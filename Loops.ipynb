{
 "cells": [
  {
   "cell_type": "code",
   "execution_count": null,
   "id": "63097fee",
   "metadata": {},
   "outputs": [],
   "source": [
    "loops\n",
    "types of loops\n",
    "for \n",
    "limit"
   ]
  },
  {
   "cell_type": "code",
   "execution_count": null,
   "id": "2268f678",
   "metadata": {},
   "outputs": [],
   "source": [
    "loops --same action ni multiple execute "
   ]
  },
  {
   "cell_type": "code",
   "execution_count": null,
   "id": "7ac18071",
   "metadata": {},
   "outputs": [],
   "source": [
    "syntax"
   ]
  },
  {
   "cell_type": "code",
   "execution_count": null,
   "id": "2d0378d7",
   "metadata": {},
   "outputs": [],
   "source": [
    "for variable in sequencedatype(list/tuple/set/dict/arrays):\n",
    "    statements \n"
   ]
  },
  {
   "cell_type": "code",
   "execution_count": null,
   "id": "45add937",
   "metadata": {},
   "outputs": [],
   "source": [
    "1-10 numbers ,print"
   ]
  },
  {
   "cell_type": "code",
   "execution_count": 1,
   "id": "1be9c735",
   "metadata": {},
   "outputs": [],
   "source": [
    "lst_number=[1,2,3,4,5,6,7,8,9]"
   ]
  },
  {
   "cell_type": "code",
   "execution_count": 2,
   "id": "eba0a4cf",
   "metadata": {},
   "outputs": [
    {
     "data": {
      "text/plain": [
       "[1, 2, 3, 4, 5, 6, 7, 8, 9]"
      ]
     },
     "execution_count": 2,
     "metadata": {},
     "output_type": "execute_result"
    }
   ],
   "source": [
    "lst_number"
   ]
  },
  {
   "cell_type": "code",
   "execution_count": null,
   "id": "94f4154c",
   "metadata": {},
   "outputs": [],
   "source": [
    "the value is 1\n",
    "the value is 2\n",
    "---\n",
    "the value is 3"
   ]
  },
  {
   "cell_type": "code",
   "execution_count": null,
   "id": "f40406ab",
   "metadata": {},
   "outputs": [],
   "source": [
    "loops\n"
   ]
  },
  {
   "cell_type": "code",
   "execution_count": 3,
   "id": "882d90f4",
   "metadata": {},
   "outputs": [
    {
     "name": "stdout",
     "output_type": "stream",
     "text": [
      " the value is 1\n",
      " the value is 2\n",
      " the value is 3\n",
      " the value is 4\n",
      " the value is 5\n",
      " the value is 6\n",
      " the value is 7\n",
      " the value is 8\n",
      " the value is 9\n"
     ]
    }
   ],
   "source": [
    "for i in lst_number:\n",
    "    print(\" the value is\", i)"
   ]
  },
  {
   "cell_type": "code",
   "execution_count": 4,
   "id": "ab553aee",
   "metadata": {},
   "outputs": [],
   "source": [
    "salary=[10000,20000,30000,40000]"
   ]
  },
  {
   "cell_type": "code",
   "execution_count": null,
   "id": "208cb785",
   "metadata": {},
   "outputs": [],
   "source": [
    "scenario: 10% \n",
    "    each percentage of amount display"
   ]
  },
  {
   "cell_type": "code",
   "execution_count": 6,
   "id": "6fcb2a90",
   "metadata": {},
   "outputs": [
    {
     "name": "stdout",
     "output_type": "stream",
     "text": [
      " salary of a employee : 10000\n",
      " the hike percentage amount form your salary 1000.0\n",
      " salary of a employee : 20000\n",
      " the hike percentage amount form your salary 2000.0\n",
      " salary of a employee : 30000\n",
      " the hike percentage amount form your salary 3000.0\n",
      " salary of a employee : 40000\n",
      " the hike percentage amount form your salary 4000.0\n"
     ]
    }
   ],
   "source": [
    "for per in salary:\n",
    "    print(\" salary of a employee :\",per)\n",
    "    percentage_incre=per*.10\n",
    "    print(\" the hike percentage amount form your salary\", percentage_incre)"
   ]
  },
  {
   "cell_type": "code",
   "execution_count": null,
   "id": "82107397",
   "metadata": {},
   "outputs": [],
   "source": [
    "for per in salary:\n",
    "    print(\" salary of a employee :\",per)\n",
    "    percentage_incre=per*.10\n",
    "    print(\" the hike percentage amount form your salary\", percentage_incre)"
   ]
  },
  {
   "cell_type": "code",
   "execution_count": null,
   "id": "fafb2c84",
   "metadata": {},
   "outputs": [],
   "source": [
    "automatic generation-- values\n"
   ]
  },
  {
   "cell_type": "code",
   "execution_count": null,
   "id": "6024a1a6",
   "metadata": {},
   "outputs": [],
   "source": [
    "lst=limit 1-100"
   ]
  },
  {
   "cell_type": "code",
   "execution_count": null,
   "id": "5551befe",
   "metadata": {},
   "outputs": [],
   "source": [
    "1-2000"
   ]
  },
  {
   "cell_type": "code",
   "execution_count": null,
   "id": "c1bb53ec",
   "metadata": {},
   "outputs": [],
   "source": [
    "range()---for loop use"
   ]
  },
  {
   "cell_type": "code",
   "execution_count": null,
   "id": "3c2cac08",
   "metadata": {},
   "outputs": [],
   "source": [
    "range(start value,ending value, increament/decrement)"
   ]
  },
  {
   "cell_type": "code",
   "execution_count": null,
   "id": "848347ae",
   "metadata": {},
   "outputs": [],
   "source": [
    "1-10\n",
    "1,2,3\n",
    "1.3.5"
   ]
  },
  {
   "cell_type": "code",
   "execution_count": null,
   "id": "22cc1ab0",
   "metadata": {},
   "outputs": [],
   "source": [
    "range(1,11,2)"
   ]
  },
  {
   "cell_type": "code",
   "execution_count": null,
   "id": "6f270c9d",
   "metadata": {},
   "outputs": [],
   "source": [
    "1-10"
   ]
  },
  {
   "cell_type": "code",
   "execution_count": 7,
   "id": "7c6b3896",
   "metadata": {},
   "outputs": [
    {
     "name": "stdout",
     "output_type": "stream",
     "text": [
      " the value is  1\n",
      " the value is  2\n",
      " the value is  3\n",
      " the value is  4\n",
      " the value is  5\n",
      " the value is  6\n",
      " the value is  7\n",
      " the value is  8\n",
      " the value is  9\n",
      " the value is  10\n"
     ]
    }
   ],
   "source": [
    "for val in range(1,11,1):\n",
    "    print(\" the value is \",val)"
   ]
  },
  {
   "cell_type": "code",
   "execution_count": 8,
   "id": "86f69db1",
   "metadata": {},
   "outputs": [
    {
     "name": "stdout",
     "output_type": "stream",
     "text": [
      " the value is  1\n",
      " the value is  2\n",
      " the value is  3\n",
      " the value is  4\n",
      " the value is  5\n",
      " the value is  6\n",
      " the value is  7\n",
      " the value is  8\n",
      " the value is  9\n",
      " the value is  10\n"
     ]
    }
   ],
   "source": [
    "for val in range(1,11):\n",
    "    print(\" the value is \",val)"
   ]
  },
  {
   "cell_type": "code",
   "execution_count": 9,
   "id": "bcf007cb",
   "metadata": {},
   "outputs": [
    {
     "name": "stdout",
     "output_type": "stream",
     "text": [
      " the value is  1\n",
      " the value is  3\n",
      " the value is  5\n",
      " the value is  7\n",
      " the value is  9\n"
     ]
    }
   ],
   "source": [
    "for val in range(1,11,2):\n",
    "    print(\" the value is \",val)"
   ]
  },
  {
   "cell_type": "code",
   "execution_count": 10,
   "id": "0c819c97",
   "metadata": {},
   "outputs": [
    {
     "name": "stdout",
     "output_type": "stream",
     "text": [
      " the value is  5\n",
      " the value is  10\n",
      " the value is  15\n",
      " the value is  20\n",
      " the value is  25\n",
      " the value is  30\n",
      " the value is  35\n",
      " the value is  40\n",
      " the value is  45\n",
      " the value is  50\n"
     ]
    }
   ],
   "source": [
    "for val in range(5,51,5):\n",
    "    print(\" the value is \",val)"
   ]
  },
  {
   "cell_type": "code",
   "execution_count": 11,
   "id": "7a83cff7",
   "metadata": {},
   "outputs": [
    {
     "name": "stdout",
     "output_type": "stream",
     "text": [
      " the value is  6\n",
      " the value is  12\n",
      " the value is  18\n",
      " the value is  24\n",
      " the value is  30\n",
      " the value is  36\n",
      " the value is  42\n",
      " the value is  48\n",
      " the value is  54\n",
      " the value is  60\n"
     ]
    }
   ],
   "source": [
    "for val in range(6,61,6):\n",
    "    print(\" the value is \",val)"
   ]
  },
  {
   "cell_type": "code",
   "execution_count": null,
   "id": "4e828385",
   "metadata": {},
   "outputs": [],
   "source": [
    "# range(20,10,2)"
   ]
  }
 ],
 "metadata": {
  "kernelspec": {
   "display_name": "Python 3 (ipykernel)",
   "language": "python",
   "name": "python3"
  },
  "language_info": {
   "codemirror_mode": {
    "name": "ipython",
    "version": 3
   },
   "file_extension": ".py",
   "mimetype": "text/x-python",
   "name": "python",
   "nbconvert_exporter": "python",
   "pygments_lexer": "ipython3",
   "version": "3.10.9"
  }
 },
 "nbformat": 4,
 "nbformat_minor": 5
}
