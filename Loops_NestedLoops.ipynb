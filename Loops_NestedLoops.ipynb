{
 "cells": [
  {
   "cell_type": "code",
   "execution_count": null,
   "id": "a84784e5",
   "metadata": {},
   "outputs": [],
   "source": [
    "loops"
   ]
  },
  {
   "cell_type": "code",
   "execution_count": null,
   "id": "0c2288df",
   "metadata": {},
   "outputs": [],
   "source": [
    "repetation \n",
    "item every iterationn \n"
   ]
  },
  {
   "cell_type": "code",
   "execution_count": null,
   "id": "ff251409",
   "metadata": {},
   "outputs": [],
   "source": [
    "for looop\n"
   ]
  },
  {
   "cell_type": "code",
   "execution_count": null,
   "id": "20e42ff7",
   "metadata": {},
   "outputs": [],
   "source": [
    "iteration-iterator \n",
    "dummay\n",
    "\n",
    "a-z, special\n",
    "_\n"
   ]
  },
  {
   "cell_type": "code",
   "execution_count": null,
   "id": "a5091b9f",
   "metadata": {},
   "outputs": [],
   "source": [
    "condition/statement ---true false\n"
   ]
  },
  {
   "cell_type": "code",
   "execution_count": null,
   "id": "b7fbfa0b",
   "metadata": {},
   "outputs": [],
   "source": [
    "for iterator_variable in seque(list/tuple/set/):\n",
    "    statment\n",
    "    statment\n",
    "    "
   ]
  },
  {
   "cell_type": "code",
   "execution_count": null,
   "id": "83df6659",
   "metadata": {},
   "outputs": [],
   "source": [
    "range()\n",
    "automatic\n"
   ]
  },
  {
   "cell_type": "code",
   "execution_count": null,
   "id": "b3555d76",
   "metadata": {},
   "outputs": [],
   "source": [
    "range(startvalue, endvalue+1,incre/dec)"
   ]
  },
  {
   "cell_type": "code",
   "execution_count": null,
   "id": "4e390721",
   "metadata": {},
   "outputs": [],
   "source": [
    "range(1,11,1)"
   ]
  },
  {
   "cell_type": "code",
   "execution_count": null,
   "id": "b8997f27",
   "metadata": {},
   "outputs": [],
   "source": [
    "range(1,11)"
   ]
  },
  {
   "cell_type": "code",
   "execution_count": null,
   "id": "b4d4e620",
   "metadata": {},
   "outputs": [],
   "source": [
    "scenario\n",
    "[1,2,3]\n",
    "[a,b,c]\n",
    "1 2 3\n",
    "1-a\n",
    "1-b\n",
    "1-c\n",
    "2-a\n",
    "2-b\n",
    "2-c\n",
    "3-a\n",
    "3-b\n",
    "3-c"
   ]
  },
  {
   "cell_type": "code",
   "execution_count": null,
   "id": "9a9bd9fd",
   "metadata": {},
   "outputs": [],
   "source": [
    "more than one loop --nested loop\n",
    "\n",
    "two types\n",
    "inner loop---> second postition\n",
    "outer loop--->first position\n"
   ]
  },
  {
   "cell_type": "code",
   "execution_count": 1,
   "id": "0f9058fc",
   "metadata": {},
   "outputs": [],
   "source": [
    "lst_num=[1,2,3]"
   ]
  },
  {
   "cell_type": "code",
   "execution_count": 2,
   "id": "a4d39bf6",
   "metadata": {},
   "outputs": [],
   "source": [
    "lst_apl=['a','b','c']"
   ]
  },
  {
   "cell_type": "code",
   "execution_count": null,
   "id": "f4ee1ace",
   "metadata": {},
   "outputs": [],
   "source": []
  },
  {
   "cell_type": "code",
   "execution_count": null,
   "id": "045ef581",
   "metadata": {},
   "outputs": [],
   "source": []
  },
  {
   "cell_type": "code",
   "execution_count": 5,
   "id": "15abec4a",
   "metadata": {},
   "outputs": [
    {
     "name": "stdout",
     "output_type": "stream",
     "text": [
      " the given value is 1\n",
      " the given value is 2\n",
      " the given value is 3\n",
      "your loop ended\n"
     ]
    }
   ],
   "source": [
    "for num in lst_num:\n",
    "    print(\" the given value is\",num)\n",
    "print(\"your loop ended\")"
   ]
  },
  {
   "cell_type": "code",
   "execution_count": 6,
   "id": "4cb43517",
   "metadata": {},
   "outputs": [
    {
     "name": "stdout",
     "output_type": "stream",
     "text": [
      " the given value is 1\n",
      " the alphbet is  a\n",
      " the alphbet is  b\n",
      " the alphbet is  c\n",
      " the given value is 2\n",
      " the alphbet is  a\n",
      " the alphbet is  b\n",
      " the alphbet is  c\n",
      " the given value is 3\n",
      " the alphbet is  a\n",
      " the alphbet is  b\n",
      " the alphbet is  c\n",
      "your loop ended\n"
     ]
    }
   ],
   "source": [
    "for num in lst_num:\n",
    "    print(\" the given value is\",num)\n",
    "    for alp in lst_apl:\n",
    "        print(\" the alphbet is \", alp)\n",
    "print(\"your loop ended\")"
   ]
  },
  {
   "cell_type": "code",
   "execution_count": null,
   "id": "afa6a97f",
   "metadata": {},
   "outputs": [],
   "source": [
    "-----"
   ]
  },
  {
   "cell_type": "code",
   "execution_count": null,
   "id": "8cfdee74",
   "metadata": {},
   "outputs": [],
   "source": [
    "secnario:\n",
    "\n",
    "marts=['dmart','jiomart','reliancemart','pmart']\n",
    "items=['chocolates','beverages','groceries']"
   ]
  },
  {
   "cell_type": "code",
   "execution_count": null,
   "id": "717e1f3f",
   "metadata": {},
   "outputs": [],
   "source": [
    "dmart\n",
    "chococates\n",
    "beverages\n",
    "groceries\n",
    "\n",
    "jiomart\n",
    "chocolates\n",
    "beverages\n",
    "groceries\n",
    "\n",
    "reilancemart\n",
    "chocolates\n",
    "beverages\n",
    "groceries\n",
    "\n",
    "pmart\n",
    "chocolates\n",
    "beverages\n",
    "groceries\n"
   ]
  },
  {
   "cell_type": "code",
   "execution_count": 7,
   "id": "37f09d25",
   "metadata": {},
   "outputs": [],
   "source": [
    "\n",
    "marts=['dmart','jiomart','reliancemart','pmart']\n",
    "items=['chocolates','beverages','groceries']"
   ]
  },
  {
   "cell_type": "code",
   "execution_count": 9,
   "id": "ca4fc6dc",
   "metadata": {},
   "outputs": [
    {
     "name": "stdout",
     "output_type": "stream",
     "text": [
      " the available mart is  dmart\n",
      " the avialble items is  chocolates\n",
      " the avialble items is  beverages\n",
      " the avialble items is  groceries\n",
      "*********************\n",
      " the available mart is  jiomart\n",
      " the avialble items is  chocolates\n",
      " the avialble items is  beverages\n",
      " the avialble items is  groceries\n",
      "*********************\n",
      " the available mart is  reliancemart\n",
      " the avialble items is  chocolates\n",
      " the avialble items is  beverages\n",
      " the avialble items is  groceries\n",
      "*********************\n",
      " the available mart is  pmart\n",
      " the avialble items is  chocolates\n",
      " the avialble items is  beverages\n",
      " the avialble items is  groceries\n",
      "*********************\n",
      " your loop completed\n"
     ]
    }
   ],
   "source": [
    "for mart in marts:\n",
    "    print(\" the available mart is \",mart)\n",
    "    for item in items:\n",
    "        print(\" the avialble items is \",item)\n",
    "    print(\"*********************\")\n",
    "print(\" your loop completed\")"
   ]
  },
  {
   "cell_type": "code",
   "execution_count": null,
   "id": "130fd7bd",
   "metadata": {},
   "outputs": [],
   "source": [
    "-------------loop\n",
    "with condition-------"
   ]
  },
  {
   "cell_type": "code",
   "execution_count": null,
   "id": "8fedfa24",
   "metadata": {},
   "outputs": [],
   "source": [
    "\n",
    "marts=['dmart','jiomart','reliancemart','pmart']\n",
    "items=['chocolates','beverages','groceries']\n",
    "\n",
    "---condition\n",
    "dmart beverages ---not available\n",
    "\n",
    "jiomar --- chocolates \n",
    "\n",
    "pmart --groceries \n",
    "\n"
   ]
  },
  {
   "cell_type": "code",
   "execution_count": null,
   "id": "0ade5f8d",
   "metadata": {},
   "outputs": [],
   "source": [
    "dmart\n",
    "chococates\n",
    "groceries\n",
    "\n",
    "jiomart\n",
    "beverages\n",
    "groceries\n",
    "\n",
    "reilancemart\n",
    "chocolates\n",
    "beverages\n",
    "groceries\n",
    "\n",
    "pmart\n",
    "chocolates\n",
    "beverages\n",
    "\n"
   ]
  },
  {
   "cell_type": "code",
   "execution_count": 10,
   "id": "1e139911",
   "metadata": {},
   "outputs": [],
   "source": [
    "\n",
    "marts=['dmart','jiomart','reliancemart','pmart']\n",
    "items=['chocolates','beverages','groceries']"
   ]
  },
  {
   "cell_type": "code",
   "execution_count": null,
   "id": "9de6b38a",
   "metadata": {},
   "outputs": [],
   "source": [
    "gender male  score 10 -- pass  --- and \n",
    "or \n"
   ]
  },
  {
   "cell_type": "code",
   "execution_count": 17,
   "id": "0d4650a7",
   "metadata": {},
   "outputs": [
    {
     "name": "stdout",
     "output_type": "stream",
     "text": [
      " the available mart is  dmart\n",
      " the avialble items is  chocolates\n",
      " the avialble items is  groceries\n",
      "*********************\n",
      " the available mart is  jiomart\n",
      " the avaialble items is  beverages\n",
      " the avaialble items is  groceries\n",
      "*********************\n",
      " the available mart is  reliancemart\n",
      " the avaialble items is  chocolates\n",
      " the avaialble items is  beverages\n",
      " the avaialble items is  groceries\n",
      "*********************\n",
      " the available mart is  pmart\n",
      " the avaialble items is  chocolates\n",
      " the avaialble items is  beverages\n",
      "*********************\n",
      " your loop completed\n"
     ]
    }
   ],
   "source": [
    "\n",
    "marts=['dmart','jiomart','reliancemart','pmart']\n",
    "items=['chocolates','beverages','groceries']\n",
    "for mart in marts:\n",
    "    print(\" the available mart is \",mart)\n",
    "    for item in items:\n",
    "        if  mart=='dmart'  :\n",
    "            if item !='beverages':\n",
    "                print(\" the avialble items is \",item)\n",
    "        elif mart=='jiomart':\n",
    "            if item!='chocolates':\n",
    "                print(\" the avaialble items is \",item)\n",
    "        elif mart=='pmart':\n",
    "            if item!='groceries':\n",
    "                print(\" the avaialble items is \",item)\n",
    "        else:\n",
    "            print(\" the avaialble items is \",item)\n",
    "            \n",
    "                \n",
    "            \n",
    "    print(\"*********************\")\n",
    "print(\" your loop completed\")"
   ]
  },
  {
   "cell_type": "code",
   "execution_count": null,
   "id": "482218e9",
   "metadata": {},
   "outputs": [],
   "source": []
  }
 ],
 "metadata": {
  "kernelspec": {
   "display_name": "Python 3 (ipykernel)",
   "language": "python",
   "name": "python3"
  },
  "language_info": {
   "codemirror_mode": {
    "name": "ipython",
    "version": 3
   },
   "file_extension": ".py",
   "mimetype": "text/x-python",
   "name": "python",
   "nbconvert_exporter": "python",
   "pygments_lexer": "ipython3",
   "version": "3.10.9"
  }
 },
 "nbformat": 4,
 "nbformat_minor": 5
}
