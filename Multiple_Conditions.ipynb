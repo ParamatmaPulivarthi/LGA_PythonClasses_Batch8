{
 "cells": [
  {
   "cell_type": "code",
   "execution_count": null,
   "id": "66c97a30",
   "metadata": {},
   "outputs": [],
   "source": [
    "conditions\n",
    "types conditions\n",
    "conditions--emai what parameter"
   ]
  },
  {
   "cell_type": "code",
   "execution_count": null,
   "id": "830d0dc3",
   "metadata": {},
   "outputs": [],
   "source": [
    "logic output condition-->"
   ]
  },
  {
   "cell_type": "code",
   "execution_count": null,
   "id": "6660015b",
   "metadata": {},
   "outputs": [],
   "source": [
    "single codition-- true \n",
    "if-- condtion\n",
    "syntax:\n",
    "if conditon:\n",
    "    statements\n",
    "statment1\n",
    "\n",
    "\n",
    "condition\n",
    "\n",
    "comparision vlaue\n",
    "operator(comparision operator)\n",
    "original value\n",
    "\n",
    "scenario : per 10mils profit --->\n",
    "    1 2\n",
    "    3\n",
    "    4\n",
    "    5\n",
    "    6 10-->profit\n",
    "    \n",
    "\n",
    "binary condition--odd cndition--if else\n",
    "multiopel condition -- 3,4 5\n",
    "elif -->"
   ]
  },
  {
   "cell_type": "code",
   "execution_count": 1,
   "id": "545ce097",
   "metadata": {},
   "outputs": [
    {
     "name": "stdout",
     "output_type": "stream",
     "text": [
      "your progream ended.\n"
     ]
    }
   ],
   "source": [
    "\n",
    "milk_sales = 2\n",
    "comparision_milk_sale =10\n",
    "\n",
    "if 10 == milk_sales:\n",
    "    print(\"your business is profitable\")\n",
    "    print(\"congrats\")\n",
    "print(\"your progream ended.\")\n",
    "\n",
    "\n",
    "\n"
   ]
  },
  {
   "cell_type": "code",
   "execution_count": 2,
   "id": "d13c2024",
   "metadata": {},
   "outputs": [
    {
     "name": "stdout",
     "output_type": "stream",
     "text": [
      "your business is profitable\n",
      "congrats\n",
      "your progream ended.\n"
     ]
    }
   ],
   "source": [
    "\n",
    "milk_sales = 10\n",
    "comparision_milk_sale =10\n",
    "\n",
    "if comparision_milk_sale == milk_sales:\n",
    "    print(\"your business is profitable\")\n",
    "    print(\"congrats\")\n",
    "print(\"your progream ended.\")\n",
    "\n",
    "\n",
    "\n"
   ]
  },
  {
   "cell_type": "code",
   "execution_count": 4,
   "id": "7df4d883",
   "metadata": {},
   "outputs": [
    {
     "name": "stdout",
     "output_type": "stream",
     "text": [
      "your progream ended.\n"
     ]
    }
   ],
   "source": [
    "# test1: \n",
    "milk_sales = 5\n",
    "comparision_milk_sale =10\n",
    "\n",
    "if comparision_milk_sale == milk_sales:\n",
    "    print(\"your business is profitable\")\n",
    "    print(\"congrats\")\n",
    "print(\"your progream ended.\")\n",
    "\n",
    "\n",
    "\n"
   ]
  },
  {
   "cell_type": "code",
   "execution_count": 5,
   "id": "76ff0960",
   "metadata": {},
   "outputs": [
    {
     "name": "stdout",
     "output_type": "stream",
     "text": [
      "your progream ended.\n"
     ]
    }
   ],
   "source": [
    "# test1: \n",
    "milk_sales = 20\n",
    "comparision_milk_sale =10\n",
    "\n",
    "if comparision_milk_sale == milk_sales:\n",
    "    print(\"your business is profitable\")\n",
    "    print(\"congrats\")\n",
    "print(\"your progream ended.\")\n",
    "\n",
    "\n",
    "\n"
   ]
  },
  {
   "cell_type": "code",
   "execution_count": 6,
   "id": "149c4453",
   "metadata": {},
   "outputs": [
    {
     "name": "stdout",
     "output_type": "stream",
     "text": [
      "your progream ended.\n"
     ]
    }
   ],
   "source": [
    "# test1: \n",
    "milk_sales = 'param'\n",
    "comparision_milk_sale =10\n",
    "\n",
    "if comparision_milk_sale == milk_sales:\n",
    "    print(\"your business is profitable\")\n",
    "    print(\"congrats\")\n",
    "print(\"your progream ended.\")\n",
    "\n",
    "\n",
    "\n"
   ]
  },
  {
   "cell_type": "code",
   "execution_count": null,
   "id": "66efe614",
   "metadata": {},
   "outputs": [],
   "source": [
    "binary condirtion---odd  ---\n",
    "\n",
    "either or\n",
    "true false\n",
    "male -female\n",
    "0 1\n",
    "\n",
    "condition ytpe \n",
    "\n",
    "if else\n"
   ]
  },
  {
   "cell_type": "code",
   "execution_count": null,
   "id": "e189bb0d",
   "metadata": {},
   "outputs": [],
   "source": [
    "syntax:\n",
    "\n",
    "    \n",
    "if conditions:\n",
    "    statements\n",
    "else:\n",
    "    statements\n",
    "statmeents "
   ]
  },
  {
   "cell_type": "code",
   "execution_count": null,
   "id": "046faf90",
   "metadata": {},
   "outputs": [],
   "source": [
    "conditons\n",
    "\n",
    "comparisionvalue\n",
    "originalvalue\n",
    "operator\n"
   ]
  },
  {
   "cell_type": "code",
   "execution_count": null,
   "id": "cd525499",
   "metadata": {},
   "outputs": [],
   "source": [
    "Pmart--\n",
    "gender discounts\n",
    "male 30%\n",
    "female 35%\n"
   ]
  },
  {
   "cell_type": "code",
   "execution_count": null,
   "id": "b4d99979",
   "metadata": {},
   "outputs": [],
   "source": [
    "original_value :gender type\n",
    "    "
   ]
  },
  {
   "cell_type": "code",
   "execution_count": null,
   "id": "88329c92",
   "metadata": {},
   "outputs": [],
   "source": [
    "gender_type ='male'\n",
    "comparision_gender ='male'\n",
    "operation (==, !=)"
   ]
  },
  {
   "cell_type": "code",
   "execution_count": null,
   "id": "393453ae",
   "metadata": {},
   "outputs": [],
   "source": [
    "if gender_type operator comparision_gender:\n",
    "    print(\"your discount is 30%\")\n",
    "    print(\"congrats\")\n",
    "else:\n",
    "    print(\"your discount is 35%\")\n",
    "    print(\"congrats\")\n",
    "print(\" happy revist to pmart\")"
   ]
  },
  {
   "cell_type": "code",
   "execution_count": 7,
   "id": "722e6777",
   "metadata": {},
   "outputs": [
    {
     "name": "stdout",
     "output_type": "stream",
     "text": [
      "your discount is 30%\n",
      "congrats\n",
      " happy revist to pmart\n"
     ]
    }
   ],
   "source": [
    "gender_type='male'\n",
    "comparision_gender='male'\n",
    "\n",
    "if gender_type == comparision_gender:\n",
    "    print(\"your discount is 30%\")\n",
    "    print(\"congrats\")\n",
    "else:\n",
    "    print(\"your discount is 35%\")\n",
    "    print(\"congrats\")\n",
    "print(\" happy revist to pmart\")"
   ]
  },
  {
   "cell_type": "code",
   "execution_count": 8,
   "id": "337b14e6",
   "metadata": {},
   "outputs": [
    {
     "name": "stdout",
     "output_type": "stream",
     "text": [
      "your discount is 35%\n",
      "congrats\n",
      " happy revist to pmart\n"
     ]
    }
   ],
   "source": [
    "gender_type='female'\n",
    "comparision_gender='male'\n",
    "\n",
    "if gender_type == comparision_gender:\n",
    "    print(\"your discount is 30%\")\n",
    "    print(\"congrats\")\n",
    "else:\n",
    "    print(\"your discount is 35%\")\n",
    "    print(\"congrats\")\n",
    "print(\" happy revist to pmart\")"
   ]
  },
  {
   "cell_type": "code",
   "execution_count": 10,
   "id": "48400ec5",
   "metadata": {},
   "outputs": [
    {
     "name": "stdout",
     "output_type": "stream",
     "text": [
      " happy revist to pmart\n"
     ]
    }
   ],
   "source": [
    "gender_type=10\n",
    "comparision_gender='male'\n",
    "\n",
    "if gender_type == comparision_gender:\n",
    "    print(\"your discount is 30%\")\n",
    "    print(\"congrats\")\n",
    "# else:\n",
    "#     print(\"your discount is 35%\")\n",
    "#     print(\"congrats\")\n",
    "print(\" happy revist to pmart\")"
   ]
  },
  {
   "cell_type": "code",
   "execution_count": null,
   "id": "bb8f6a21",
   "metadata": {},
   "outputs": [],
   "source": [
    "if elif else--more than 2 conditons"
   ]
  },
  {
   "cell_type": "code",
   "execution_count": null,
   "id": "84670f98",
   "metadata": {},
   "outputs": [],
   "source": [
    "syntax:"
   ]
  },
  {
   "cell_type": "code",
   "execution_count": null,
   "id": "c2fbb366",
   "metadata": {},
   "outputs": [],
   "source": [
    "if condition:\n",
    "    statements\n",
    "elif condition:\n",
    "    statements\n",
    "else:\n",
    "    statement"
   ]
  },
  {
   "cell_type": "code",
   "execution_count": null,
   "id": "ed261d01",
   "metadata": {},
   "outputs": [],
   "source": [
    "4 "
   ]
  },
  {
   "cell_type": "code",
   "execution_count": null,
   "id": "b385072f",
   "metadata": {},
   "outputs": [],
   "source": [
    "if condition:\n",
    "    statements\n",
    "elif condition:\n",
    "    statements\n",
    "elif condition:\n",
    "    statements  \n",
    "    --\n",
    "    --\n",
    "    --\n",
    "else:\n",
    "    statement"
   ]
  },
  {
   "cell_type": "code",
   "execution_count": null,
   "id": "ad00c5b2",
   "metadata": {},
   "outputs": [],
   "source": [
    "scenario:\n",
    "Pmart\n",
    "discounts--\n",
    "rice items --30%\n",
    "chocolotes-40%\n",
    "dinks beverages --50%\n",
    "normal groceries -60%\n",
    "\n",
    "more 2 conditon\n",
    "logic--conditions\n",
    "type of conditions\n",
    " \n",
    "    if elif else\n",
    "    "
   ]
  },
  {
   "cell_type": "code",
   "execution_count": null,
   "id": "3ac107bf",
   "metadata": {},
   "outputs": [],
   "source": [
    "if conditions:\n",
    "    statemement\n",
    "elif contiions:\n",
    "    statement\n",
    "elif contion:\n",
    "    statement\n",
    "elif conditoin:\n",
    "    statement\n",
    "else:\n",
    "    statments"
   ]
  },
  {
   "cell_type": "code",
   "execution_count": null,
   "id": "178462a8",
   "metadata": {},
   "outputs": [],
   "source": [
    "condition\n",
    "\n",
    "original value\n",
    "comparision\n",
    "operator\n"
   ]
  },
  {
   "cell_type": "code",
   "execution_count": null,
   "id": "a8646825",
   "metadata": {},
   "outputs": [],
   "source": [
    "discounts--\n",
    "rice items --30%\n",
    "chocolotes-40%\n",
    "dinks beverages --50%\n",
    "normal groceries -60%\n",
    "\n",
    "input?---purchase item\n",
    "logic --condition\n",
    "output?-- discounts\n",
    "\n"
   ]
  },
  {
   "cell_type": "code",
   "execution_count": 3,
   "id": "5fbc2cc7",
   "metadata": {},
   "outputs": [],
   "source": [
    "purchase_item='chocolote'\n",
    "comparision_value1='riceitem'\n",
    "comparision_value2='chocolote'\n",
    "comparision_value3='beverages'\n",
    "comparision_value4='groceries'\n",
    "# operator == , !=\n"
   ]
  },
  {
   "cell_type": "code",
   "execution_count": 4,
   "id": "80aed49b",
   "metadata": {},
   "outputs": [
    {
     "name": "stdout",
     "output_type": "stream",
     "text": [
      "chocolote\n",
      "riceitem\n",
      "chocolote\n",
      "beverages\n",
      "groceries\n"
     ]
    }
   ],
   "source": [
    "print(purchase_item)\n",
    "print(comparision_value1)\n",
    "print(comparision_value2)\n",
    "print(comparision_value3)\n",
    "print(comparision_value4)"
   ]
  },
  {
   "cell_type": "code",
   "execution_count": 11,
   "id": "f8627146",
   "metadata": {},
   "outputs": [
    {
     "name": "stdout",
     "output_type": "stream",
     "text": [
      "welcome to PMart\n",
      "you have selected beverages\n",
      "your discount is 50%\n",
      "your requirement completed\n"
     ]
    }
   ],
   "source": [
    "\n",
    "if purchase_item == comparision_value1:\n",
    "    print(\"welcome to PMart\")\n",
    "    print(\"you have selected riceitem\")\n",
    "    print(\"your discount is 30%\")\n",
    "elif purchase_item ==  comparision_value2:\n",
    "    print(\"welcome to PMart\")\n",
    "    print(\"you have selected chocolate\")\n",
    "    print(\"your discount is 40%\")\n",
    "elif    purchase_item== comparision_value3:\n",
    "    print(\"welcome to PMart\")\n",
    "    print(\"you have selected beverages\")\n",
    "    print(\"your discount is 50%\")\n",
    "elif purchase_item ==comparision_value4:\n",
    "    print(\"welcome to PMart\")\n",
    "    print(\"you have selected groceries\")\n",
    "    print(\"your discount is 60%\")\n",
    "else:\n",
    "    print(\"you have not selected proper mart\")\n",
    "    print(\"you have not selected proper item\")\n",
    "print(\"your requirement completed\")    \n",
    "    \n",
    "    "
   ]
  },
  {
   "cell_type": "code",
   "execution_count": 17,
   "id": "aa60da01",
   "metadata": {},
   "outputs": [],
   "source": [
    "purchase_item='softdrinks'\n"
   ]
  },
  {
   "cell_type": "code",
   "execution_count": 21,
   "id": "1a2d6ae1",
   "metadata": {},
   "outputs": [],
   "source": [
    "purchase_item='******'\n"
   ]
  },
  {
   "cell_type": "code",
   "execution_count": 22,
   "id": "f980de3c",
   "metadata": {},
   "outputs": [
    {
     "name": "stdout",
     "output_type": "stream",
     "text": [
      "you have not selected proper mart\n",
      "you have not selected proper item\n",
      "your requirement completed\n"
     ]
    }
   ],
   "source": [
    "\n",
    "if purchase_item == comparision_value1:\n",
    "    print(\"welcome to PMart\")\n",
    "    print(\"you have selected riceitem\")\n",
    "    print(\"your discount is 30%\")\n",
    "elif purchase_item ==  comparision_value2:\n",
    "    print(\"welcome to PMart\")\n",
    "    print(\"you have selected chocolate\")\n",
    "    print(\"your discount is 40%\")\n",
    "elif    purchase_item== comparision_value3:\n",
    "    print(\"welcome to PMart\")\n",
    "    print(\"you have selected beverages\")\n",
    "    print(\"your discount is 50%\")\n",
    "elif purchase_item ==comparision_value4:\n",
    "    print(\"welcome to PMart\")\n",
    "    print(\"you have selected groceries\")\n",
    "    print(\"your discount is 60%\")\n",
    "else:\n",
    "    print(\"you have not selected proper mart\")\n",
    "    print(\"you have not selected proper item\")\n",
    "print(\"your requirement completed\")    \n",
    "    \n",
    "    "
   ]
  },
  {
   "cell_type": "code",
   "execution_count": null,
   "id": "ff294aa9",
   "metadata": {},
   "outputs": [],
   "source": [
    "real values\n",
    "total bill=\n",
    "discount\n",
    "final amount\n"
   ]
  },
  {
   "cell_type": "code",
   "execution_count": null,
   "id": "514909e8",
   "metadata": {},
   "outputs": [],
   "source": [
    "\n",
    "if purchase_item == comparision_value1:\n",
    "    print(\"welcome to PMart\")\n",
    "    print(\"you have selected riceitem\")\n",
    "    print(\"your discount is 30%\")\n",
    "elif purchase_item ==  comparision_value2:\n",
    "    print(\"welcome to PMart\")\n",
    "    print(\"you have selected chocolate\")\n",
    "    print(\"your discount is 40%\")\n",
    "elif    purchase_item== comparision_value3:\n",
    "    print(\"welcome to PMart\")\n",
    "    print(\"you have selected beverages\")\n",
    "    print(\"your discount is 50%\")\n",
    "elif purchase_item ==comparision_value4:\n",
    "    print(\"welcome to PMart\")\n",
    "    print(\"you have selected groceries\")\n",
    "    print(\"your discount is 60%\")\n",
    "else:\n",
    "    print(\"you have not selected proper mart\")\n",
    "    print(\"you have not selected proper item\")\n",
    "print(\"your requirement completed\")    \n",
    "    \n",
    "    "
   ]
  },
  {
   "cell_type": "code",
   "execution_count": null,
   "id": "60ee24a0",
   "metadata": {},
   "outputs": [],
   "source": [
    "scenario: to display final amount after the discount\n",
    "\n",
    "    \n",
    "    input\n",
    "    condition/logic\n",
    "    output\n",
    "\n",
    "\n",
    "\n"
   ]
  },
  {
   "cell_type": "code",
   "execution_count": null,
   "id": "ef2cb63b",
   "metadata": {},
   "outputs": [],
   "source": [
    "input \n",
    "purchase item\n",
    "totla bill\n",
    "\n",
    "logic---condition\n",
    "type of condition\n",
    "if elif else\n",
    "logic build --disount, final amount( total bill- discounted maount=) ,\n",
    "\n",
    "output\n",
    "purchase item\n",
    "discount\n",
    "final amount\n"
   ]
  },
  {
   "cell_type": "code",
   "execution_count": null,
   "id": "a1c7e799",
   "metadata": {},
   "outputs": [],
   "source": [
    "pmart\n",
    "10000"
   ]
  },
  {
   "cell_type": "code",
   "execution_count": 29,
   "id": "47cf7bb9",
   "metadata": {},
   "outputs": [],
   "source": [
    "purchase_item='beverages'\n",
    "purchase_amount=-10\n",
    "comparision_value1='riceitem'\n",
    "comparision_value2='chocolote'\n",
    "comparision_value3='beverages'\n",
    "comparision_value4='groceries'\n",
    "# operator == , !=\n"
   ]
  },
  {
   "cell_type": "code",
   "execution_count": 30,
   "id": "7c7b7e7c",
   "metadata": {},
   "outputs": [
    {
     "name": "stdout",
     "output_type": "stream",
     "text": [
      "welcome to PMart\n",
      "you have selected beverages\n",
      "your discount is 50%\n",
      "discount amount : -5.0\n",
      "final_amount : -5.0\n",
      "your requirement completed\n"
     ]
    }
   ],
   "source": [
    "\n",
    "if purchase_item == comparision_value1:\n",
    "    print(\"welcome to PMart\")\n",
    "    print(\"you have selected riceitem\")\n",
    "    print(\"your discount is 30%\")\n",
    "    discount=purchase_amount*.30\n",
    "    print(\"discount amount :\",discount)\n",
    "    final_amount=purchase_amount-discount\n",
    "    print(\"final_amount :\",final_amount)\n",
    "elif purchase_item ==  comparision_value2:\n",
    "    print(\"welcome to PMart\")\n",
    "    print(\"you have selected chocolate\")\n",
    "    print(\"your discount is 40%\")\n",
    "    discount=purchase_amount*.40\n",
    "    print(\"discount amount :\",discount)\n",
    "    final_amount=purchase_amount-discount\n",
    "    print(\"final_amount :\",final_amount)\n",
    "elif    purchase_item== comparision_value3:\n",
    "    print(\"welcome to PMart\")\n",
    "    print(\"you have selected beverages\")\n",
    "    print(\"your discount is 50%\")\n",
    "    discount=purchase_amount*.50\n",
    "    print(\"discount amount :\",discount)\n",
    "    final_amount=purchase_amount-discount\n",
    "    print(\"final_amount :\",final_amount)\n",
    "elif purchase_item ==comparision_value4:\n",
    "    print(\"welcome to PMart\")\n",
    "    print(\"you have selected groceries\")\n",
    "    print(\"your discount is 60%\")\n",
    "    discount=purchase_amount*.60\n",
    "    print(\"discount amount :\",discount)\n",
    "    final_amount=purchase_amount-discount\n",
    "    print(\"final_amount :\",final_amount)\n",
    "else:\n",
    "    print(\"you have not selected proper mart\")\n",
    "    print(\"you have not selected proper item\")\n",
    "print(\"your requirement completed\")    \n",
    "    \n",
    "    "
   ]
  },
  {
   "cell_type": "code",
   "execution_count": null,
   "id": "607249af",
   "metadata": {},
   "outputs": [],
   "source": [
    "business-------\n",
    "10 items -----\n",
    "-----\n",
    "zomoto,fashion\n",
    "elctiric product\n"
   ]
  }
 ],
 "metadata": {
  "kernelspec": {
   "display_name": "Python 3 (ipykernel)",
   "language": "python",
   "name": "python3"
  },
  "language_info": {
   "codemirror_mode": {
    "name": "ipython",
    "version": 3
   },
   "file_extension": ".py",
   "mimetype": "text/x-python",
   "name": "python",
   "nbconvert_exporter": "python",
   "pygments_lexer": "ipython3",
   "version": "3.10.9"
  }
 },
 "nbformat": 4,
 "nbformat_minor": 5
}
